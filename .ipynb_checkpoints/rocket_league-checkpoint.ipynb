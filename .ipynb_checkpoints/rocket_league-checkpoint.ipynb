{
 "cells": [
  {
   "cell_type": "markdown",
   "id": "f2ddf331-fbac-4d3d-8af2-45c09b2fd3fb",
   "metadata": {},
   "source": [
    "# Importing libraries"
   ]
  },
  {
   "cell_type": "code",
   "execution_count": 3,
   "id": "6e74a2a1-368c-4958-803c-b5f345051f6f",
   "metadata": {},
   "outputs": [],
   "source": [
    "import cudf\n",
    "import cupy as cp\n",
    "import matplotlib.pyplot as plt\n",
    "from packaging import version\n",
    "if version.parse(cp.__version__) >= version.parse(\"10.0.0\"):\n",
    "    cupy_from_dlpack = cp.from_dlpack\n",
    "else:\n",
    "    cupy_from_dlpack = cp.fromDlpack"
   ]
  },
  {
   "cell_type": "markdown",
   "id": "3fd90941-ca80-470e-96cc-c4e38e7a8383",
   "metadata": {},
   "source": [
    "# Reading Files"
   ]
  },
  {
   "cell_type": "code",
   "execution_count": 4,
   "id": "4af08d26-af10-4d3d-8dfc-fcd37662b4e4",
   "metadata": {},
   "outputs": [],
   "source": [
    "df = cudf.concat([cudf.read_csv('train_{}.csv'.format(i)) for i in range(1)],ignore_index=True)"
   ]
  },
  {
   "cell_type": "code",
   "execution_count": 5,
   "id": "d666bdc8-c3b0-4c34-a092-6e1704da1251",
   "metadata": {
    "tags": []
   },
   "outputs": [
    {
     "name": "stdout",
     "output_type": "stream",
     "text": [
      "<class 'cudf.core.dataframe.DataFrame'>\n",
      "RangeIndex: 2149381 entries, 0 to 2149380\n",
      "Data columns (total 61 columns):\n",
      " #   Column                       Dtype\n",
      "---  ------                       -----\n",
      " 0   game_num                     int64\n",
      " 1   event_id                     int64\n",
      " 2   event_time                   float64\n",
      " 3   ball_pos_x                   float64\n",
      " 4   ball_pos_y                   float64\n",
      " 5   ball_pos_z                   float64\n",
      " 6   ball_vel_x                   float64\n",
      " 7   ball_vel_y                   float64\n",
      " 8   ball_vel_z                   float64\n",
      " 9   p0_pos_x                     float64\n",
      " 10  p0_pos_y                     float64\n",
      " 11  p0_pos_z                     float64\n",
      " 12  p0_vel_x                     float64\n",
      " 13  p0_vel_y                     float64\n",
      " 14  p0_vel_z                     float64\n",
      " 15  p0_boost                     float64\n",
      " 16  p1_pos_x                     float64\n",
      " 17  p1_pos_y                     float64\n",
      " 18  p1_pos_z                     float64\n",
      " 19  p1_vel_x                     float64\n",
      " 20  p1_vel_y                     float64\n",
      " 21  p1_vel_z                     float64\n",
      " 22  p1_boost                     float64\n",
      " 23  p2_pos_x                     float64\n",
      " 24  p2_pos_y                     float64\n",
      " 25  p2_pos_z                     float64\n",
      " 26  p2_vel_x                     float64\n",
      " 27  p2_vel_y                     float64\n",
      " 28  p2_vel_z                     float64\n",
      " 29  p2_boost                     float64\n",
      " 30  p3_pos_x                     float64\n",
      " 31  p3_pos_y                     float64\n",
      " 32  p3_pos_z                     float64\n",
      " 33  p3_vel_x                     float64\n",
      " 34  p3_vel_y                     float64\n",
      " 35  p3_vel_z                     float64\n",
      " 36  p3_boost                     float64\n",
      " 37  p4_pos_x                     float64\n",
      " 38  p4_pos_y                     float64\n",
      " 39  p4_pos_z                     float64\n",
      " 40  p4_vel_x                     float64\n",
      " 41  p4_vel_y                     float64\n",
      " 42  p4_vel_z                     float64\n",
      " 43  p4_boost                     float64\n",
      " 44  p5_pos_x                     float64\n",
      " 45  p5_pos_y                     float64\n",
      " 46  p5_pos_z                     float64\n",
      " 47  p5_vel_x                     float64\n",
      " 48  p5_vel_y                     float64\n",
      " 49  p5_vel_z                     float64\n",
      " 50  p5_boost                     float64\n",
      " 51  boost0_timer                 float64\n",
      " 52  boost1_timer                 float64\n",
      " 53  boost2_timer                 float64\n",
      " 54  boost3_timer                 float64\n",
      " 55  boost4_timer                 float64\n",
      " 56  boost5_timer                 float64\n",
      " 57  player_scoring_next          int64\n",
      " 58  team_scoring_next            object\n",
      " 59  team_A_scoring_within_10sec  int64\n",
      " 60  team_B_scoring_within_10sec  int64\n",
      "dtypes: float64(55), int64(5), object(1)\n",
      "memory usage: 1004.7+ MB\n"
     ]
    }
   ],
   "source": [
    "df.info(verbose=True)"
   ]
  },
  {
   "cell_type": "code",
   "execution_count": 19,
   "id": "7133ab0a-8931-454b-8fd5-eee46c5765c6",
   "metadata": {},
   "outputs": [
    {
     "data": {
      "text/html": [
       "<div>\n",
       "<style scoped>\n",
       "    .dataframe tbody tr th:only-of-type {\n",
       "        vertical-align: middle;\n",
       "    }\n",
       "\n",
       "    .dataframe tbody tr th {\n",
       "        vertical-align: top;\n",
       "    }\n",
       "\n",
       "    .dataframe thead th {\n",
       "        text-align: right;\n",
       "    }\n",
       "</style>\n",
       "<table border=\"1\" class=\"dataframe\">\n",
       "  <thead>\n",
       "    <tr style=\"text-align: right;\">\n",
       "      <th></th>\n",
       "      <th>game_num</th>\n",
       "      <th>event_id</th>\n",
       "      <th>event_time</th>\n",
       "      <th>ball_pos_x</th>\n",
       "      <th>ball_pos_y</th>\n",
       "      <th>ball_pos_z</th>\n",
       "      <th>ball_vel_x</th>\n",
       "      <th>ball_vel_y</th>\n",
       "      <th>ball_vel_z</th>\n",
       "      <th>p0_pos_x</th>\n",
       "      <th>...</th>\n",
       "      <th>p5_boost</th>\n",
       "      <th>boost0_timer</th>\n",
       "      <th>boost1_timer</th>\n",
       "      <th>boost2_timer</th>\n",
       "      <th>boost3_timer</th>\n",
       "      <th>boost4_timer</th>\n",
       "      <th>boost5_timer</th>\n",
       "      <th>player_scoring_next</th>\n",
       "      <th>team_A_scoring_within_10sec</th>\n",
       "      <th>team_B_scoring_within_10sec</th>\n",
       "    </tr>\n",
       "  </thead>\n",
       "  <tbody>\n",
       "    <tr>\n",
       "      <th>count</th>\n",
       "      <td>2.149381e+06</td>\n",
       "      <td>2.149381e+06</td>\n",
       "      <td>2.149381e+06</td>\n",
       "      <td>2.149381e+06</td>\n",
       "      <td>2.149381e+06</td>\n",
       "      <td>2.149381e+06</td>\n",
       "      <td>2.149381e+06</td>\n",
       "      <td>2.149381e+06</td>\n",
       "      <td>2.149381e+06</td>\n",
       "      <td>2.130390e+06</td>\n",
       "      <td>...</td>\n",
       "      <td>2.130318e+06</td>\n",
       "      <td>2.149381e+06</td>\n",
       "      <td>2.149381e+06</td>\n",
       "      <td>2.149381e+06</td>\n",
       "      <td>2.149381e+06</td>\n",
       "      <td>2.149381e+06</td>\n",
       "      <td>2.149381e+06</td>\n",
       "      <td>2.149381e+06</td>\n",
       "      <td>2.149381e+06</td>\n",
       "      <td>2.149381e+06</td>\n",
       "    </tr>\n",
       "    <tr>\n",
       "      <th>mean</th>\n",
       "      <td>3.678573e+02</td>\n",
       "      <td>3.678601e+05</td>\n",
       "      <td>-6.615076e+01</td>\n",
       "      <td>-1.711840e-01</td>\n",
       "      <td>-8.702000e-03</td>\n",
       "      <td>1.566230e+01</td>\n",
       "      <td>-3.763000e-03</td>\n",
       "      <td>2.237900e-02</td>\n",
       "      <td>1.148250e-01</td>\n",
       "      <td>-8.151900e-02</td>\n",
       "      <td>...</td>\n",
       "      <td>4.577625e+01</td>\n",
       "      <td>-2.727069e+00</td>\n",
       "      <td>-2.754303e+00</td>\n",
       "      <td>-3.226214e+00</td>\n",
       "      <td>-3.220364e+00</td>\n",
       "      <td>-2.751841e+00</td>\n",
       "      <td>-2.718325e+00</td>\n",
       "      <td>1.604489e+00</td>\n",
       "      <td>5.831100e-02</td>\n",
       "      <td>5.575300e-02</td>\n",
       "    </tr>\n",
       "    <tr>\n",
       "      <th>std</th>\n",
       "      <td>2.125500e+02</td>\n",
       "      <td>2.125501e+05</td>\n",
       "      <td>6.682579e+01</td>\n",
       "      <td>4.909460e+01</td>\n",
       "      <td>6.008009e+01</td>\n",
       "      <td>1.044591e+01</td>\n",
       "      <td>2.316391e+01</td>\n",
       "      <td>2.806578e+01</td>\n",
       "      <td>1.228911e+01</td>\n",
       "      <td>4.550489e+01</td>\n",
       "      <td>...</td>\n",
       "      <td>3.410338e+01</td>\n",
       "      <td>3.301398e+00</td>\n",
       "      <td>3.306345e+00</td>\n",
       "      <td>3.364020e+00</td>\n",
       "      <td>3.363124e+00</td>\n",
       "      <td>3.306341e+00</td>\n",
       "      <td>3.300695e+00</td>\n",
       "      <td>2.080762e+00</td>\n",
       "      <td>2.343300e-01</td>\n",
       "      <td>2.294440e-01</td>\n",
       "    </tr>\n",
       "    <tr>\n",
       "      <th>min</th>\n",
       "      <td>1.000000e+00</td>\n",
       "      <td>1.002000e+03</td>\n",
       "      <td>-7.205285e+02</td>\n",
       "      <td>-8.079200e+01</td>\n",
       "      <td>-1.043092e+02</td>\n",
       "      <td>1.296000e+00</td>\n",
       "      <td>-9.920059e+01</td>\n",
       "      <td>-8.797200e+01</td>\n",
       "      <td>-6.299300e+01</td>\n",
       "      <td>-8.189000e+01</td>\n",
       "      <td>...</td>\n",
       "      <td>0.000000e+00</td>\n",
       "      <td>-9.984000e+00</td>\n",
       "      <td>-9.984000e+00</td>\n",
       "      <td>-9.970000e+00</td>\n",
       "      <td>-9.984000e+00</td>\n",
       "      <td>-9.970000e+00</td>\n",
       "      <td>-9.970000e+00</td>\n",
       "      <td>-1.000000e+00</td>\n",
       "      <td>0.000000e+00</td>\n",
       "      <td>0.000000e+00</td>\n",
       "    </tr>\n",
       "    <tr>\n",
       "      <th>25%</th>\n",
       "      <td>1.830000e+02</td>\n",
       "      <td>1.830040e+05</td>\n",
       "      <td>-9.148513e+01</td>\n",
       "      <td>-4.498640e+01</td>\n",
       "      <td>-5.354000e+01</td>\n",
       "      <td>6.395000e+00</td>\n",
       "      <td>-1.558660e+01</td>\n",
       "      <td>-2.184260e+01</td>\n",
       "      <td>-7.648400e+00</td>\n",
       "      <td>-3.730970e+01</td>\n",
       "      <td>...</td>\n",
       "      <td>1.294000e+01</td>\n",
       "      <td>-5.477000e+00</td>\n",
       "      <td>-5.527000e+00</td>\n",
       "      <td>-6.200000e+00</td>\n",
       "      <td>-6.195000e+00</td>\n",
       "      <td>-5.523000e+00</td>\n",
       "      <td>-5.465000e+00</td>\n",
       "      <td>0.000000e+00</td>\n",
       "      <td>0.000000e+00</td>\n",
       "      <td>0.000000e+00</td>\n",
       "    </tr>\n",
       "    <tr>\n",
       "      <th>50%</th>\n",
       "      <td>3.650000e+02</td>\n",
       "      <td>3.650040e+05</td>\n",
       "      <td>-4.588233e+01</td>\n",
       "      <td>-0.000000e+00</td>\n",
       "      <td>0.000000e+00</td>\n",
       "      <td>1.412580e+01</td>\n",
       "      <td>-0.000000e+00</td>\n",
       "      <td>0.000000e+00</td>\n",
       "      <td>0.000000e+00</td>\n",
       "      <td>-0.000000e+00</td>\n",
       "      <td>...</td>\n",
       "      <td>4.275000e+01</td>\n",
       "      <td>-6.904000e-01</td>\n",
       "      <td>-7.900000e-01</td>\n",
       "      <td>-2.193000e+00</td>\n",
       "      <td>-2.186000e+00</td>\n",
       "      <td>-7.803000e-01</td>\n",
       "      <td>-6.540000e-01</td>\n",
       "      <td>1.000000e+00</td>\n",
       "      <td>0.000000e+00</td>\n",
       "      <td>0.000000e+00</td>\n",
       "    </tr>\n",
       "    <tr>\n",
       "      <th>75%</th>\n",
       "      <td>5.530000e+02</td>\n",
       "      <td>5.530020e+05</td>\n",
       "      <td>-1.925391e+01</td>\n",
       "      <td>4.450460e+01</td>\n",
       "      <td>5.377380e+01</td>\n",
       "      <td>2.366960e+01</td>\n",
       "      <td>1.563160e+01</td>\n",
       "      <td>2.181040e+01</td>\n",
       "      <td>7.640200e+00</td>\n",
       "      <td>3.711940e+01</td>\n",
       "      <td>...</td>\n",
       "      <td>7.694000e+01</td>\n",
       "      <td>0.000000e+00</td>\n",
       "      <td>0.000000e+00</td>\n",
       "      <td>0.000000e+00</td>\n",
       "      <td>0.000000e+00</td>\n",
       "      <td>0.000000e+00</td>\n",
       "      <td>0.000000e+00</td>\n",
       "      <td>3.000000e+00</td>\n",
       "      <td>0.000000e+00</td>\n",
       "      <td>0.000000e+00</td>\n",
       "    </tr>\n",
       "    <tr>\n",
       "      <th>max</th>\n",
       "      <td>7.370000e+02</td>\n",
       "      <td>7.370050e+05</td>\n",
       "      <td>-1.714600e-02</td>\n",
       "      <td>8.069160e+01</td>\n",
       "      <td>1.043092e+02</td>\n",
       "      <td>3.943720e+01</td>\n",
       "      <td>9.838720e+01</td>\n",
       "      <td>1.011442e+02</td>\n",
       "      <td>6.794280e+01</td>\n",
       "      <td>8.190180e+01</td>\n",
       "      <td>...</td>\n",
       "      <td>1.000000e+02</td>\n",
       "      <td>0.000000e+00</td>\n",
       "      <td>0.000000e+00</td>\n",
       "      <td>0.000000e+00</td>\n",
       "      <td>0.000000e+00</td>\n",
       "      <td>0.000000e+00</td>\n",
       "      <td>0.000000e+00</td>\n",
       "      <td>5.000000e+00</td>\n",
       "      <td>1.000000e+00</td>\n",
       "      <td>1.000000e+00</td>\n",
       "    </tr>\n",
       "  </tbody>\n",
       "</table>\n",
       "<p>8 rows × 60 columns</p>\n",
       "</div>"
      ],
      "text/plain": [
       "           game_num      event_id    event_time    ball_pos_x    ball_pos_y  \\\n",
       "count  2.149381e+06  2.149381e+06  2.149381e+06  2.149381e+06  2.149381e+06   \n",
       "mean   3.678573e+02  3.678601e+05 -6.615076e+01 -1.711840e-01 -8.702000e-03   \n",
       "std    2.125500e+02  2.125501e+05  6.682579e+01  4.909460e+01  6.008009e+01   \n",
       "min    1.000000e+00  1.002000e+03 -7.205285e+02 -8.079200e+01 -1.043092e+02   \n",
       "25%    1.830000e+02  1.830040e+05 -9.148513e+01 -4.498640e+01 -5.354000e+01   \n",
       "50%    3.650000e+02  3.650040e+05 -4.588233e+01 -0.000000e+00  0.000000e+00   \n",
       "75%    5.530000e+02  5.530020e+05 -1.925391e+01  4.450460e+01  5.377380e+01   \n",
       "max    7.370000e+02  7.370050e+05 -1.714600e-02  8.069160e+01  1.043092e+02   \n",
       "\n",
       "         ball_pos_z    ball_vel_x    ball_vel_y    ball_vel_z      p0_pos_x  \\\n",
       "count  2.149381e+06  2.149381e+06  2.149381e+06  2.149381e+06  2.130390e+06   \n",
       "mean   1.566230e+01 -3.763000e-03  2.237900e-02  1.148250e-01 -8.151900e-02   \n",
       "std    1.044591e+01  2.316391e+01  2.806578e+01  1.228911e+01  4.550489e+01   \n",
       "min    1.296000e+00 -9.920059e+01 -8.797200e+01 -6.299300e+01 -8.189000e+01   \n",
       "25%    6.395000e+00 -1.558660e+01 -2.184260e+01 -7.648400e+00 -3.730970e+01   \n",
       "50%    1.412580e+01 -0.000000e+00  0.000000e+00  0.000000e+00 -0.000000e+00   \n",
       "75%    2.366960e+01  1.563160e+01  2.181040e+01  7.640200e+00  3.711940e+01   \n",
       "max    3.943720e+01  9.838720e+01  1.011442e+02  6.794280e+01  8.190180e+01   \n",
       "\n",
       "       ...      p5_boost  boost0_timer  boost1_timer  boost2_timer  \\\n",
       "count  ...  2.130318e+06  2.149381e+06  2.149381e+06  2.149381e+06   \n",
       "mean   ...  4.577625e+01 -2.727069e+00 -2.754303e+00 -3.226214e+00   \n",
       "std    ...  3.410338e+01  3.301398e+00  3.306345e+00  3.364020e+00   \n",
       "min    ...  0.000000e+00 -9.984000e+00 -9.984000e+00 -9.970000e+00   \n",
       "25%    ...  1.294000e+01 -5.477000e+00 -5.527000e+00 -6.200000e+00   \n",
       "50%    ...  4.275000e+01 -6.904000e-01 -7.900000e-01 -2.193000e+00   \n",
       "75%    ...  7.694000e+01  0.000000e+00  0.000000e+00  0.000000e+00   \n",
       "max    ...  1.000000e+02  0.000000e+00  0.000000e+00  0.000000e+00   \n",
       "\n",
       "       boost3_timer  boost4_timer  boost5_timer  player_scoring_next  \\\n",
       "count  2.149381e+06  2.149381e+06  2.149381e+06         2.149381e+06   \n",
       "mean  -3.220364e+00 -2.751841e+00 -2.718325e+00         1.604489e+00   \n",
       "std    3.363124e+00  3.306341e+00  3.300695e+00         2.080762e+00   \n",
       "min   -9.984000e+00 -9.970000e+00 -9.970000e+00        -1.000000e+00   \n",
       "25%   -6.195000e+00 -5.523000e+00 -5.465000e+00         0.000000e+00   \n",
       "50%   -2.186000e+00 -7.803000e-01 -6.540000e-01         1.000000e+00   \n",
       "75%    0.000000e+00  0.000000e+00  0.000000e+00         3.000000e+00   \n",
       "max    0.000000e+00  0.000000e+00  0.000000e+00         5.000000e+00   \n",
       "\n",
       "       team_A_scoring_within_10sec  team_B_scoring_within_10sec  \n",
       "count                 2.149381e+06                 2.149381e+06  \n",
       "mean                  5.831100e-02                 5.575300e-02  \n",
       "std                   2.343300e-01                 2.294440e-01  \n",
       "min                   0.000000e+00                 0.000000e+00  \n",
       "25%                   0.000000e+00                 0.000000e+00  \n",
       "50%                   0.000000e+00                 0.000000e+00  \n",
       "75%                   0.000000e+00                 0.000000e+00  \n",
       "max                   1.000000e+00                 1.000000e+00  \n",
       "\n",
       "[8 rows x 60 columns]"
      ]
     },
     "execution_count": 19,
     "metadata": {},
     "output_type": "execute_result"
    }
   ],
   "source": [
    "df.describe()"
   ]
  },
  {
   "cell_type": "code",
   "execution_count": 21,
   "id": "d9b220e4-2357-48bb-bb85-780a6f0e45ed",
   "metadata": {},
   "outputs": [],
   "source": [
    "df.event_time = df.event_time.abs()"
   ]
  },
  {
   "cell_type": "markdown",
   "id": "c408d329-d72d-42c6-845b-4f5c0809d9d4",
   "metadata": {},
   "source": [
    "# Defining Functions"
   ]
  },
  {
   "cell_type": "code",
   "execution_count": 22,
   "id": "5bbf3b6e-3147-4ff9-ad02-74f6573f4c4f",
   "metadata": {},
   "outputs": [],
   "source": [
    "def histogram(df, v):\n",
    "    if v: \n",
    "        print(\"min: {}\".format(df.min()))\n",
    "        print(\"max: {}\".format(df.max()))\n",
    "        print(df.name)\n",
    "    arr_cupy = cupy_from_dlpack(df.to_dlpack())\n",
    "    arr = cp.histogram(arr_cupy, bins = abs(int(df.min())+int(df.max())))\n",
    "    plt.bar(range(-int(df.min()), int(df.max())), height = arr[0].tolist())\n",
    "    plt.show()"
   ]
  },
  {
   "cell_type": "markdown",
   "id": "40442537-aa66-46be-abf8-64e463f6cdd9",
   "metadata": {
    "tags": []
   },
   "source": [
    "# Histograms"
   ]
  },
  {
   "cell_type": "markdown",
   "id": "92ba5b22-346b-44c7-8ac0-d0f25cd37956",
   "metadata": {},
   "source": [
    "## Event Time"
   ]
  },
  {
   "cell_type": "markdown",
   "id": "51cde548-96bd-4b77-9dab-67433abfd287",
   "metadata": {},
   "source": [
    "Time in seconds before the event ended, either by a goal being scored or simply when we decided to truncate the timeseries if a goal was not scored."
   ]
  },
  {
   "cell_type": "code",
   "execution_count": 23,
   "id": "9bab3e5c-3f3c-402a-a69e-de718cc7f8b1",
   "metadata": {},
   "outputs": [
    {
     "name": "stdout",
     "output_type": "stream",
     "text": [
      "min: 0.017146199999999997\n",
      "max: 720.5285\n",
      "event_time\n"
     ]
    },
    {
     "data": {
      "image/png": "[encoded data removed]",
      "text/plain": [
       "<Figure size 640x480 with 1 Axes>"
      ]
     },
     "metadata": {},
     "output_type": "display_data"
    }
   ],
   "source": [
    "histogram(df['event_time'], True)"
   ]
  },
  {
   "cell_type": "code",
   "execution_count": 31,
   "id": "d37cb1c5-7d23-4aa7-9027-e58127fcb6ac",
   "metadata": {},
   "outputs": [
    {
     "data": {
      "text/plain": [
       "99.09373908115872"
      ]
     },
     "execution_count": 31,
     "metadata": {},
     "output_type": "execute_result"
    }
   ],
   "source": [
    "(df.event_time[df.event_time<300].size/df.event_time.size)*100"
   ]
  },
  {
   "cell_type": "code",
   "execution_count": 32,
   "id": "6e90787d-1f1b-4d41-9191-07e08b2b8ddd",
   "metadata": {},
   "outputs": [],
   "source": [
    "new_event_time = df.event_time[df.event_time<300]"
   ]
  },
  {
   "cell_type": "code",
   "execution_count": 33,
   "id": "fdf10a11-c5ff-41eb-9a6c-9395f40d85df",
   "metadata": {},
   "outputs": [
    {
     "name": "stdout",
     "output_type": "stream",
     "text": [
      "min: 0.017146199999999997\n",
      "max: 299.9855299999999\n",
      "event_time\n"
     ]
    },
    {
     "data": {
      "image/png": "[encoded data removed]",
      "text/plain": [
       "<Figure size 640x480 with 1 Axes>"
      ]
     },
     "metadata": {},
     "output_type": "display_data"
    }
   ],
   "source": [
    "histogram(new_event_time, True)"
   ]
  },
  {
   "cell_type": "code",
   "execution_count": 39,
   "id": "96466491-76a0-438c-9982-9a70b324e756",
   "metadata": {},
   "outputs": [
    {
     "data": {
      "text/plain": [
       "0"
      ]
     },
     "execution_count": 39,
     "metadata": {},
     "output_type": "execute_result"
    }
   ],
   "source": [
    "df.event_time[df.event_time].size"
   ]
  },
  {
   "cell_type": "code",
   "execution_count": 44,
   "id": "6ec53d09-fa80-48b5-a247-8519bd397488",
   "metadata": {},
   "outputs": [
    {
     "data": {
      "text/plain": [
       "0.017146199999999997"
      ]
     },
     "execution_count": 44,
     "metadata": {},
     "output_type": "execute_result"
    }
   ],
   "source": [
    "new_event_time.min()"
   ]
  },
  {
   "cell_type": "code",
   "execution_count": 45,
   "id": "e50f1875-6769-4bb5-b6e4-0bafd0e8b336",
   "metadata": {},
   "outputs": [
    {
     "data": {
      "text/plain": [
       "299.9855299999999"
      ]
     },
     "execution_count": 45,
     "metadata": {},
     "output_type": "execute_result"
    }
   ],
   "source": [
    "new_event_time.max()"
   ]
  },
  {
   "cell_type": "markdown",
   "id": "f11d111e-f462-4078-a5c3-809188ed83eb",
   "metadata": {
    "tags": []
   },
   "source": [
    "## ball position"
   ]
  },
  {
   "cell_type": "markdown",
   "id": "180bb882-e66b-4e71-9b93-8a13a7b2f37a",
   "metadata": {
    "tags": []
   },
   "source": [
    "### Pos X"
   ]
  },
  {
   "cell_type": "code",
   "execution_count": 46,
   "id": "62ae1ade-ae43-497a-9568-d347c64ac506",
   "metadata": {},
   "outputs": [
    {
     "ename": "ValueError",
     "evalue": "`bins` must be positive, when an integer",
     "output_type": "error",
     "traceback": [
      "\u001b[0;31m---------------------------------------------------------------------------\u001b[0m",
      "\u001b[0;31mValueError\u001b[0m                                Traceback (most recent call last)",
      "\u001b[0;32m/tmp/ipykernel_1269/1152447270.py\u001b[0m in \u001b[0;36m<module>\u001b[0;34m\u001b[0m\n\u001b[0;32m----> 1\u001b[0;31m \u001b[0mhistogram\u001b[0m\u001b[0;34m(\u001b[0m\u001b[0mdf\u001b[0m\u001b[0;34m.\u001b[0m\u001b[0mball_pos_x\u001b[0m\u001b[0;34m,\u001b[0m \u001b[0;32mTrue\u001b[0m\u001b[0;34m)\u001b[0m\u001b[0;34m\u001b[0m\u001b[0;34m\u001b[0m\u001b[0m\n\u001b[0m",
      "\u001b[0;32m/tmp/ipykernel_1269/1713729442.py\u001b[0m in \u001b[0;36mhistogram\u001b[0;34m(df, v)\u001b[0m\n\u001b[1;32m      1\u001b[0m \u001b[0;32mdef\u001b[0m \u001b[0mhistogram\u001b[0m\u001b[0;34m(\u001b[0m\u001b[0mdf\u001b[0m\u001b[0;34m,\u001b[0m \u001b[0mv\u001b[0m\u001b[0;34m)\u001b[0m\u001b[0;34m:\u001b[0m\u001b[0;34m\u001b[0m\u001b[0;34m\u001b[0m\u001b[0m\n\u001b[1;32m      2\u001b[0m     \u001b[0marr_cupy\u001b[0m \u001b[0;34m=\u001b[0m \u001b[0mcupy_from_dlpack\u001b[0m\u001b[0;34m(\u001b[0m\u001b[0mdf\u001b[0m\u001b[0;34m.\u001b[0m\u001b[0mto_dlpack\u001b[0m\u001b[0;34m(\u001b[0m\u001b[0;34m)\u001b[0m\u001b[0;34m)\u001b[0m\u001b[0;34m\u001b[0m\u001b[0;34m\u001b[0m\u001b[0m\n\u001b[0;32m----> 3\u001b[0;31m     \u001b[0marr\u001b[0m \u001b[0;34m=\u001b[0m \u001b[0mcp\u001b[0m\u001b[0;34m.\u001b[0m\u001b[0mhistogram\u001b[0m\u001b[0;34m(\u001b[0m\u001b[0marr_cupy\u001b[0m\u001b[0;34m,\u001b[0m \u001b[0mbins\u001b[0m \u001b[0;34m=\u001b[0m \u001b[0mabs\u001b[0m\u001b[0;34m(\u001b[0m\u001b[0mint\u001b[0m\u001b[0;34m(\u001b[0m\u001b[0mdf\u001b[0m\u001b[0;34m.\u001b[0m\u001b[0mmin\u001b[0m\u001b[0;34m(\u001b[0m\u001b[0;34m)\u001b[0m\u001b[0;34m)\u001b[0m\u001b[0;34m+\u001b[0m\u001b[0mint\u001b[0m\u001b[0;34m(\u001b[0m\u001b[0mdf\u001b[0m\u001b[0;34m.\u001b[0m\u001b[0mmax\u001b[0m\u001b[0;34m(\u001b[0m\u001b[0;34m)\u001b[0m\u001b[0;34m)\u001b[0m\u001b[0;34m)\u001b[0m\u001b[0;34m)\u001b[0m\u001b[0;34m\u001b[0m\u001b[0;34m\u001b[0m\u001b[0m\n\u001b[0m\u001b[1;32m      4\u001b[0m     \u001b[0;32mif\u001b[0m \u001b[0mv\u001b[0m\u001b[0;34m:\u001b[0m\u001b[0;34m\u001b[0m\u001b[0;34m\u001b[0m\u001b[0m\n\u001b[1;32m      5\u001b[0m         \u001b[0mprint\u001b[0m\u001b[0;34m(\u001b[0m\u001b[0;34m\"min: {}\"\u001b[0m\u001b[0;34m.\u001b[0m\u001b[0mformat\u001b[0m\u001b[0;34m(\u001b[0m\u001b[0mdf\u001b[0m\u001b[0;34m.\u001b[0m\u001b[0mmin\u001b[0m\u001b[0;34m(\u001b[0m\u001b[0;34m)\u001b[0m\u001b[0;34m)\u001b[0m\u001b[0;34m)\u001b[0m\u001b[0;34m\u001b[0m\u001b[0;34m\u001b[0m\u001b[0m\n",
      "\u001b[0;32m/opt/conda/envs/rapids/lib/python3.9/site-packages/cupy/_statistics/histogram.py\u001b[0m in \u001b[0;36mhistogram\u001b[0;34m(x, bins, range, weights, density)\u001b[0m\n\u001b[1;32m    217\u001b[0m \u001b[0;34m\u001b[0m\u001b[0m\n\u001b[1;32m    218\u001b[0m     \u001b[0mx\u001b[0m\u001b[0;34m,\u001b[0m \u001b[0mweights\u001b[0m \u001b[0;34m=\u001b[0m \u001b[0m_ravel_and_check_weights\u001b[0m\u001b[0;34m(\u001b[0m\u001b[0mx\u001b[0m\u001b[0;34m,\u001b[0m \u001b[0mweights\u001b[0m\u001b[0;34m)\u001b[0m\u001b[0;34m\u001b[0m\u001b[0;34m\u001b[0m\u001b[0m\n\u001b[0;32m--> 219\u001b[0;31m     \u001b[0mbin_edges\u001b[0m \u001b[0;34m=\u001b[0m \u001b[0m_get_bin_edges\u001b[0m\u001b[0;34m(\u001b[0m\u001b[0mx\u001b[0m\u001b[0;34m,\u001b[0m \u001b[0mbins\u001b[0m\u001b[0;34m,\u001b[0m \u001b[0mrange\u001b[0m\u001b[0;34m)\u001b[0m\u001b[0;34m\u001b[0m\u001b[0;34m\u001b[0m\u001b[0m\n\u001b[0m\u001b[1;32m    220\u001b[0m \u001b[0;34m\u001b[0m\u001b[0m\n\u001b[1;32m    221\u001b[0m     \u001b[0;32mif\u001b[0m \u001b[0mweights\u001b[0m \u001b[0;32mis\u001b[0m \u001b[0;32mNone\u001b[0m\u001b[0;34m:\u001b[0m\u001b[0;34m\u001b[0m\u001b[0;34m\u001b[0m\u001b[0m\n",
      "\u001b[0;32m/opt/conda/envs/rapids/lib/python3.9/site-packages/cupy/_statistics/histogram.py\u001b[0m in \u001b[0;36m_get_bin_edges\u001b[0;34m(a, bins, range)\u001b[0m\n\u001b[1;32m    155\u001b[0m                 '`bins` must be an integer, a string, or an array')\n\u001b[1;32m    156\u001b[0m         \u001b[0;32mif\u001b[0m \u001b[0mn_equal_bins\u001b[0m \u001b[0;34m<\u001b[0m \u001b[0;36m1\u001b[0m\u001b[0;34m:\u001b[0m\u001b[0;34m\u001b[0m\u001b[0;34m\u001b[0m\u001b[0m\n\u001b[0;32m--> 157\u001b[0;31m             \u001b[0;32mraise\u001b[0m \u001b[0mValueError\u001b[0m\u001b[0;34m(\u001b[0m\u001b[0;34m'`bins` must be positive, when an integer'\u001b[0m\u001b[0;34m)\u001b[0m\u001b[0;34m\u001b[0m\u001b[0;34m\u001b[0m\u001b[0m\n\u001b[0m\u001b[1;32m    158\u001b[0m \u001b[0;34m\u001b[0m\u001b[0m\n\u001b[1;32m    159\u001b[0m         \u001b[0mfirst_edge\u001b[0m\u001b[0;34m,\u001b[0m \u001b[0mlast_edge\u001b[0m \u001b[0;34m=\u001b[0m \u001b[0m_get_outer_edges\u001b[0m\u001b[0;34m(\u001b[0m\u001b[0ma\u001b[0m\u001b[0;34m,\u001b[0m \u001b[0mrange\u001b[0m\u001b[0;34m)\u001b[0m\u001b[0;34m\u001b[0m\u001b[0;34m\u001b[0m\u001b[0m\n",
      "\u001b[0;31mValueError\u001b[0m: `bins` must be positive, when an integer"
     ]
    }
   ],
   "source": [
    "histogram(df.ball_pos_x, True)"
   ]
  },
  {
   "cell_type": "code",
   "execution_count": null,
   "id": "43c00c5b-a732-459e-a80b-87a1bd8b571f",
   "metadata": {},
   "outputs": [],
   "source": []
  }
 ],
 "metadata": {
  "kernelspec": {
   "display_name": "Python 3 (ipykernel)",
   "language": "python",
   "name": "python3"
  },
  "language_info": {
   "codemirror_mode": {
    "name": "ipython",
    "version": 3
   },
   "file_extension": ".py",
   "mimetype": "text/x-python",
   "name": "python",
   "nbconvert_exporter": "python",
   "pygments_lexer": "ipython3",
   "version": "3.9.13"
  }
 },
 "nbformat": 4,
 "nbformat_minor": 5
}
